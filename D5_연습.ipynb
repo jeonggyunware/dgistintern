{
 "cells": [
  {
   "cell_type": "code",
   "execution_count": 4,
   "id": "b46a01e9",
   "metadata": {},
   "outputs": [
    {
     "name": "stdout",
     "output_type": "stream",
     "text": [
      "정수를 입력해주세요  2342\n",
      "1부터 2342 까지 무작위로 선택된 값은 1492 입니다.\n"
     ]
    }
   ],
   "source": [
    "import random\n",
    "\n",
    "num=int(input('정수를 입력해주세요  '))\n",
    "rndNum=random.randint(1,num)\n",
    "\n",
    "print('1부터', num,'까지 무작위로 선택된 값은',rndNum,'입니다.')"
   ]
  },
  {
   "cell_type": "code",
   "execution_count": null,
   "id": "692e10e7",
   "metadata": {},
   "outputs": [],
   "source": [
    "import random\n",
    "m1=random.randint(1,5)\n",
    "m2=random.randint(1,5)\n",
    "m3=random.randint(1,5)\n",
    "\n",
    "n1=int(input('1~5 사이의 숫자를 입력해주세요(1)'))\n",
    "n2=int(input('1~5 사이의 숫자를 입력해주세요(2)'))\n",
    "n3=int(input('1~5 사이의 숫자를 입력해주세요(3)'))\n",
    "print('무작위 선택 숫자',m1,m2,m3)\n",
    "print('사용자 선택 숫자',n1,n2,n3)\n",
    "if m1==n1:\n",
    "    if m2==n2:\n",
    "        if m3==n3:\n",
    "            cnt='1등'\n",
    "        else:\n",
    "            cnt='2등'\n",
    "    if m2\n"
   ]
  },
  {
   "cell_type": "code",
   "execution_count": 6,
   "id": "e678ca8d",
   "metadata": {},
   "outputs": [
    {
     "name": "stdout",
     "output_type": "stream",
     "text": [
      "1~5 사이의 숫자를 입력해주세요(1)5\n",
      "1~5 사이의 숫자를 입력해주세요(2)1\n",
      "1~5 사이의 숫자를 입력해주세요(3)3\n",
      "무작위 선택 숫자 1 1 1\n",
      "사용자 선택 숫자 5 1 3\n",
      "1등-3개\n"
     ]
    }
   ],
   "source": [
    "import random\n",
    "m1=random.randint(1,5)\n",
    "m2=random.randint(1,5)\n",
    "m3=random.randint(1,5)\n",
    "\n",
    "n1=int(input('1~5 사이의 숫자를 입력해주세요(1)'))\n",
    "n2=int(input('1~5 사이의 숫자를 입력해주세요(2)'))\n",
    "n3=int(input('1~5 사이의 숫자를 입력해주세요(3)'))\n",
    "print('무작위 선택 숫자',m1,m2,m3)\n",
    "print('사용자 선택 숫자',n1,n2,n3)\n",
    "\n",
    "m_cnt=0\n",
    "if (m1==n1) or(m1==n2) or (m1==n3):\n",
    "    m_cnt=m_cnt+1\n",
    "    \n",
    "if (m2==n1) or(m2==n2) or (m2==n3):\n",
    "    m_cnt=m_cnt+1\n",
    "    \n",
    "if (m3==n1) or(m3==n2) or (m3==n3):\n",
    "    m_cnt=m_cnt+1\n",
    "if m_cnt==3:\n",
    "    print('1등-3개')\n",
    "elif m_cnt==2:\n",
    "    print('2등-2개')\n",
    "elif m_cnt==1:\n",
    "    print('1등-1개')\n",
    "else:\n",
    "    prnit('꽝')"
   ]
  },
  {
   "cell_type": "code",
   "execution_count": 7,
   "id": "ccf50eb0",
   "metadata": {},
   "outputs": [
    {
     "name": "stdout",
     "output_type": "stream",
     "text": [
      "0\n",
      "1\n",
      "2\n",
      "3\n",
      "4\n",
      "5\n",
      "6\n",
      "7\n",
      "8\n",
      "9\n"
     ]
    }
   ],
   "source": [
    "cnt=0\n",
    "\n",
    "while cnt<10:\n",
    "    print(cnt)\n",
    "    cnt=cnt+1"
   ]
  },
  {
   "cell_type": "code",
   "execution_count": 8,
   "id": "1a9bdd58",
   "metadata": {},
   "outputs": [
    {
     "name": "stdout",
     "output_type": "stream",
     "text": [
      "10\n",
      "9\n",
      "8\n",
      "7\n",
      "6\n",
      "5\n",
      "4\n",
      "3\n",
      "2\n",
      "1\n",
      "0\n"
     ]
    }
   ],
   "source": [
    "cnt=10\n",
    "\n",
    "while cnt>=0:\n",
    "    print(cnt)\n",
    "    cnt=cnt-1"
   ]
  },
  {
   "cell_type": "code",
   "execution_count": 10,
   "id": "90366b6b",
   "metadata": {},
   "outputs": [
    {
     "name": "stdout",
     "output_type": "stream",
     "text": [
      "1\n",
      "2\n",
      "3\n",
      "4\n",
      "5\n",
      "6\n",
      "7\n",
      "8\n",
      "9\n"
     ]
    }
   ],
   "source": [
    "cnt=1\n",
    "\n",
    "while cnt<10:\n",
    "    print(cnt)\n",
    "    cnt=cnt+1"
   ]
  },
  {
   "cell_type": "code",
   "execution_count": 16,
   "id": "c545cac9",
   "metadata": {},
   "outputs": [
    {
     "name": "stdout",
     "output_type": "stream",
     "text": [
      "20 17 14 11 8 5 2 "
     ]
    }
   ],
   "source": [
    "cnt=20\n",
    "while cnt>=0:\n",
    "    print(cnt,end= ' ')\n",
    "    cnt=cnt-3"
   ]
  },
  {
   "cell_type": "code",
   "execution_count": 20,
   "id": "8dde1390",
   "metadata": {},
   "outputs": [
    {
     "name": "stdout",
     "output_type": "stream",
     "text": [
      "ǎ\n"
     ]
    }
   ],
   "source": [
    "print('ǎ')"
   ]
  },
  {
   "cell_type": "code",
   "execution_count": 3,
   "id": "a88cde55",
   "metadata": {},
   "outputs": [
    {
     "name": "stdout",
     "output_type": "stream",
     "text": [
      "사용자: 1\n",
      "앵무새: 1\n",
      "\n",
      "사용자: 3\n",
      "앵무새: 3\n",
      "\n",
      "사용자: 4\n",
      "앵무새: 4\n",
      "\n",
      "사용자: 5\n",
      "앵무새: 5\n",
      "\n",
      "사용자: 1\n",
      "앵무새: 1\n",
      "\n"
     ]
    }
   ],
   "source": [
    "cnt=0\n",
    "\n",
    "\n",
    "while cnt<5:\n",
    "    a=input('사용자: ')\n",
    "    print('앵무새:',a)\n",
    "    print()\n",
    "    cnt=cnt+1\n"
   ]
  },
  {
   "cell_type": "code",
   "execution_count": 6,
   "id": "133f1424",
   "metadata": {},
   "outputs": [
    {
     "name": "stdout",
     "output_type": "stream",
     "text": [
      "1\n",
      "2\n",
      "3\n",
      "4\n",
      "5\n",
      "6\n",
      "7\n",
      "8\n",
      "9\n",
      "10\n"
     ]
    }
   ],
   "source": [
    "cnt=0\n",
    "import time\n",
    "\n",
    "while cnt<10:\n",
    "    cnt=cnt+1\n",
    "    time.sleep(2)\n",
    "    print(cnt)"
   ]
  },
  {
   "cell_type": "code",
   "execution_count": null,
   "id": "1bae911d",
   "metadata": {},
   "outputs": [],
   "source": [
    "import random\n",
    "cnt=0\n",
    "while cnt<3:\n",
    "    "
   ]
  }
 ],
 "metadata": {
  "kernelspec": {
   "display_name": "Python 3 (ipykernel)",
   "language": "python",
   "name": "python3"
  },
  "language_info": {
   "codemirror_mode": {
    "name": "ipython",
    "version": 3
   },
   "file_extension": ".py",
   "mimetype": "text/x-python",
   "name": "python",
   "nbconvert_exporter": "python",
   "pygments_lexer": "ipython3",
   "version": "3.9.12"
  }
 },
 "nbformat": 4,
 "nbformat_minor": 5
}
